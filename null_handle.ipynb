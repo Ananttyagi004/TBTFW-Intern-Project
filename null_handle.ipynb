{
 "cells": [
  {
   "cell_type": "code",
   "execution_count": 14,
   "metadata": {},
   "outputs": [],
   "source": [
    "import pandas as pd\n",
    "import numpy as np"
   ]
  },
  {
   "cell_type": "code",
   "execution_count": 15,
   "metadata": {},
   "outputs": [],
   "source": [
    "data=pd.read_csv('INR=X.csv')"
   ]
  },
  {
   "cell_type": "code",
   "execution_count": 16,
   "metadata": {},
   "outputs": [
    {
     "data": {
      "text/plain": [
       "Index(['Date', 'Open', 'High', 'Low', 'Close', 'Adj Close', 'Volume'], dtype='object')"
      ]
     },
     "execution_count": 16,
     "metadata": {},
     "output_type": "execute_result"
    }
   ],
   "source": [
    "data.columns"
   ]
  },
  {
   "cell_type": "code",
   "execution_count": 17,
   "metadata": {},
   "outputs": [],
   "source": [
    "mean_volume = data['Open'].mean()\n",
    "data['Open'].fillna(mean_volume, inplace=True)"
   ]
  },
  {
   "cell_type": "code",
   "execution_count": 18,
   "metadata": {},
   "outputs": [],
   "source": [
    "mean_volume = data['Open'].mean()\n",
    "data['Open'].fillna(mean_volume, inplace=True)"
   ]
  },
  {
   "cell_type": "code",
   "execution_count": 19,
   "metadata": {},
   "outputs": [],
   "source": [
    "mean_volume = data['High'].mean()\n",
    "data['High'].fillna(mean_volume, inplace=True)"
   ]
  },
  {
   "cell_type": "code",
   "execution_count": 20,
   "metadata": {},
   "outputs": [],
   "source": [
    "mean_volume = data['Low'].mean()\n",
    "data['Low'].fillna(mean_volume, inplace=True)"
   ]
  },
  {
   "cell_type": "code",
   "execution_count": 21,
   "metadata": {},
   "outputs": [],
   "source": [
    "mean_volume = data['Close'].mean()\n",
    "data['Close'].fillna(mean_volume, inplace=True)"
   ]
  },
  {
   "cell_type": "code",
   "execution_count": 22,
   "metadata": {},
   "outputs": [],
   "source": [
    "mean_volume = data['Adj Close'].mean()\n",
    "data['Adj Close'].fillna(mean_volume, inplace=True)"
   ]
  },
  {
   "cell_type": "code",
   "execution_count": 23,
   "metadata": {},
   "outputs": [],
   "source": [
    "mean_volume = data['Volume'].mean()\n",
    "data['Volume'].fillna(mean_volume, inplace=True)"
   ]
  },
  {
   "cell_type": "code",
   "execution_count": 24,
   "metadata": {},
   "outputs": [
    {
     "data": {
      "text/html": [
       "<div>\n",
       "<style scoped>\n",
       "    .dataframe tbody tr th:only-of-type {\n",
       "        vertical-align: middle;\n",
       "    }\n",
       "\n",
       "    .dataframe tbody tr th {\n",
       "        vertical-align: top;\n",
       "    }\n",
       "\n",
       "    .dataframe thead th {\n",
       "        text-align: right;\n",
       "    }\n",
       "</style>\n",
       "<table border=\"1\" class=\"dataframe\">\n",
       "  <thead>\n",
       "    <tr style=\"text-align: right;\">\n",
       "      <th></th>\n",
       "      <th>Date</th>\n",
       "      <th>Open</th>\n",
       "      <th>High</th>\n",
       "      <th>Low</th>\n",
       "      <th>Close</th>\n",
       "      <th>Adj Close</th>\n",
       "      <th>Volume</th>\n",
       "    </tr>\n",
       "  </thead>\n",
       "  <tbody>\n",
       "    <tr>\n",
       "      <th>0</th>\n",
       "      <td>2019-02-19</td>\n",
       "      <td>71.376503</td>\n",
       "      <td>71.610001</td>\n",
       "      <td>71.239998</td>\n",
       "      <td>71.699997</td>\n",
       "      <td>71.699997</td>\n",
       "      <td>0.0</td>\n",
       "    </tr>\n",
       "    <tr>\n",
       "      <th>1</th>\n",
       "      <td>2019-02-20</td>\n",
       "      <td>71.305000</td>\n",
       "      <td>71.330002</td>\n",
       "      <td>70.931999</td>\n",
       "      <td>71.599998</td>\n",
       "      <td>71.599998</td>\n",
       "      <td>0.0</td>\n",
       "    </tr>\n",
       "    <tr>\n",
       "      <th>2</th>\n",
       "      <td>2019-02-21</td>\n",
       "      <td>71.049004</td>\n",
       "      <td>71.233002</td>\n",
       "      <td>70.930000</td>\n",
       "      <td>71.300003</td>\n",
       "      <td>71.300003</td>\n",
       "      <td>0.0</td>\n",
       "    </tr>\n",
       "    <tr>\n",
       "      <th>3</th>\n",
       "      <td>2019-02-22</td>\n",
       "      <td>71.184998</td>\n",
       "      <td>71.230003</td>\n",
       "      <td>71.019997</td>\n",
       "      <td>71.184998</td>\n",
       "      <td>71.184998</td>\n",
       "      <td>0.0</td>\n",
       "    </tr>\n",
       "    <tr>\n",
       "      <th>4</th>\n",
       "      <td>2019-02-25</td>\n",
       "      <td>71.027496</td>\n",
       "      <td>71.150002</td>\n",
       "      <td>70.814903</td>\n",
       "      <td>71.030998</td>\n",
       "      <td>71.030998</td>\n",
       "      <td>0.0</td>\n",
       "    </tr>\n",
       "    <tr>\n",
       "      <th>...</th>\n",
       "      <td>...</td>\n",
       "      <td>...</td>\n",
       "      <td>...</td>\n",
       "      <td>...</td>\n",
       "      <td>...</td>\n",
       "      <td>...</td>\n",
       "      <td>...</td>\n",
       "    </tr>\n",
       "    <tr>\n",
       "      <th>1300</th>\n",
       "      <td>2024-02-13</td>\n",
       "      <td>82.990196</td>\n",
       "      <td>83.111397</td>\n",
       "      <td>82.961700</td>\n",
       "      <td>82.990196</td>\n",
       "      <td>82.990196</td>\n",
       "      <td>0.0</td>\n",
       "    </tr>\n",
       "    <tr>\n",
       "      <th>1301</th>\n",
       "      <td>2024-02-14</td>\n",
       "      <td>83.074600</td>\n",
       "      <td>83.115997</td>\n",
       "      <td>83.013000</td>\n",
       "      <td>83.074600</td>\n",
       "      <td>83.074600</td>\n",
       "      <td>0.0</td>\n",
       "    </tr>\n",
       "    <tr>\n",
       "      <th>1302</th>\n",
       "      <td>2024-02-15</td>\n",
       "      <td>83.043098</td>\n",
       "      <td>83.050697</td>\n",
       "      <td>82.962799</td>\n",
       "      <td>83.043098</td>\n",
       "      <td>83.043098</td>\n",
       "      <td>0.0</td>\n",
       "    </tr>\n",
       "    <tr>\n",
       "      <th>1303</th>\n",
       "      <td>2024-02-16</td>\n",
       "      <td>83.009598</td>\n",
       "      <td>83.052299</td>\n",
       "      <td>82.972801</td>\n",
       "      <td>83.009598</td>\n",
       "      <td>83.009598</td>\n",
       "      <td>0.0</td>\n",
       "    </tr>\n",
       "    <tr>\n",
       "      <th>1304</th>\n",
       "      <td>2024-02-18</td>\n",
       "      <td>82.992996</td>\n",
       "      <td>82.992996</td>\n",
       "      <td>82.992996</td>\n",
       "      <td>82.992996</td>\n",
       "      <td>82.992996</td>\n",
       "      <td>0.0</td>\n",
       "    </tr>\n",
       "  </tbody>\n",
       "</table>\n",
       "<p>1305 rows × 7 columns</p>\n",
       "</div>"
      ],
      "text/plain": [
       "            Date       Open       High        Low      Close  Adj Close  \\\n",
       "0     2019-02-19  71.376503  71.610001  71.239998  71.699997  71.699997   \n",
       "1     2019-02-20  71.305000  71.330002  70.931999  71.599998  71.599998   \n",
       "2     2019-02-21  71.049004  71.233002  70.930000  71.300003  71.300003   \n",
       "3     2019-02-22  71.184998  71.230003  71.019997  71.184998  71.184998   \n",
       "4     2019-02-25  71.027496  71.150002  70.814903  71.030998  71.030998   \n",
       "...          ...        ...        ...        ...        ...        ...   \n",
       "1300  2024-02-13  82.990196  83.111397  82.961700  82.990196  82.990196   \n",
       "1301  2024-02-14  83.074600  83.115997  83.013000  83.074600  83.074600   \n",
       "1302  2024-02-15  83.043098  83.050697  82.962799  83.043098  83.043098   \n",
       "1303  2024-02-16  83.009598  83.052299  82.972801  83.009598  83.009598   \n",
       "1304  2024-02-18  82.992996  82.992996  82.992996  82.992996  82.992996   \n",
       "\n",
       "      Volume  \n",
       "0        0.0  \n",
       "1        0.0  \n",
       "2        0.0  \n",
       "3        0.0  \n",
       "4        0.0  \n",
       "...      ...  \n",
       "1300     0.0  \n",
       "1301     0.0  \n",
       "1302     0.0  \n",
       "1303     0.0  \n",
       "1304     0.0  \n",
       "\n",
       "[1305 rows x 7 columns]"
      ]
     },
     "execution_count": 24,
     "metadata": {},
     "output_type": "execute_result"
    }
   ],
   "source": [
    "data"
   ]
  },
  {
   "cell_type": "code",
   "execution_count": 25,
   "metadata": {},
   "outputs": [
    {
     "data": {
      "text/plain": [
       "Index(['Date', 'Open', 'High', 'Low', 'Close', 'Adj Close', 'Volume'], dtype='object')"
      ]
     },
     "execution_count": 25,
     "metadata": {},
     "output_type": "execute_result"
    }
   ],
   "source": [
    "data.columns\n"
   ]
  },
  {
   "cell_type": "code",
   "execution_count": 26,
   "metadata": {},
   "outputs": [],
   "source": [
    "data.to_csv('inrx.csv', index=False, columns=['Date', 'Open', 'High', 'Low', 'Close', 'Adj Close', 'Volume'])"
   ]
  },
  {
   "cell_type": "code",
   "execution_count": null,
   "metadata": {},
   "outputs": [],
   "source": []
  }
 ],
 "metadata": {
  "kernelspec": {
   "display_name": "Python 3",
   "language": "python",
   "name": "python3"
  },
  "language_info": {
   "codemirror_mode": {
    "name": "ipython",
    "version": 3
   },
   "file_extension": ".py",
   "mimetype": "text/x-python",
   "name": "python",
   "nbconvert_exporter": "python",
   "pygments_lexer": "ipython3",
   "version": "3.10.8"
  }
 },
 "nbformat": 4,
 "nbformat_minor": 2
}
